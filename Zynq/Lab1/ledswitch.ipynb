{
 "cells": [
  {
   "cell_type": "code",
   "execution_count": null,
   "id": "093184e6",
   "metadata": {},
   "outputs": [],
   "source": [
    "from time import sleep                      #import from libraries. First is sleep cmnd to generate delay\n",
    "from pynq.overlays.base import BaseOverlay  #import baseoverlay to use some underlying hardware. Similar to Logic/PL \n",
    "                                            #It is basically .bit file generated like in Vivado. Hardware libraries to use\n",
    "                                            #power of FPGA. Bit files is for sharing inputs using APIs\n",
    "base = BaseOverlay(\"base.bit\")"
   ]
  },
  {
   "cell_type": "code",
   "execution_count": null,
   "id": "d60cf8a5",
   "metadata": {},
   "outputs": [],
   "source": [
    "led0 = base.leds[0]            #with the bit files from base library, \n",
    "                               #we are able to refernce for the LEDS such as LED LD0\n",
    "led1 = base.leds[1]            #for LED LD1\n",
    "led2 = base.leds[2]\n",
    "led3 = base.leds[3]"
   ]
  },
  {
   "cell_type": "code",
   "execution_count": null,
   "id": "06369b27",
   "metadata": {},
   "outputs": [],
   "source": [
    "sw0 = base.switches[0]          #for SW0\n",
    "sw1 = base.switches[1] "
   ]
  },
  {
   "cell_type": "code",
   "execution_count": null,
   "id": "6ba138e4",
   "metadata": {},
   "outputs": [],
   "source": [
    "while(True):                    #this code is a while(True) runs forever\n",
    "    if (sw0.read() == True):    #reads to see if SW0 is on\n",
    "        led0.on()               #if SW0 is on, turn on led0 and led1\n",
    "        led1.on()\n",
    "        #sleep(2)               #sleep() function is to delay the time at which sw0.read() is triggered\n",
    "    else:\n",
    "        led0.off()\n",
    "        led1.off()\n",
    "    if (sw1.read() == True):\n",
    "        led2.on()\n",
    "        led3.on()\n",
    "        #sleep(2)\n",
    "    else:\n",
    "        led2.off()\n",
    "        led3.off()"
   ]
  },
  {
   "cell_type": "code",
   "execution_count": null,
   "id": "4c2aa6c1",
   "metadata": {},
   "outputs": [],
   "source": []
  },
  {
   "cell_type": "code",
   "execution_count": null,
   "id": "e571afc0",
   "metadata": {},
   "outputs": [],
   "source": []
  },
  {
   "cell_type": "code",
   "execution_count": null,
   "id": "88abd12b",
   "metadata": {},
   "outputs": [],
   "source": []
  }
 ],
 "metadata": {
  "kernelspec": {
   "display_name": "Python 3 (ipykernel)",
   "language": "python",
   "name": "python3"
  },
  "language_info": {
   "codemirror_mode": {
    "name": "ipython",
    "version": 3
   },
   "file_extension": ".py",
   "mimetype": "text/x-python",
   "name": "python",
   "nbconvert_exporter": "python",
   "pygments_lexer": "ipython3",
   "version": "3.10.4"
  }
 },
 "nbformat": 4,
 "nbformat_minor": 5
}
